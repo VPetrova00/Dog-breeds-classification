{
 "cells": [
  {
   "cell_type": "markdown",
   "source": [
    "Идеята на проекта е класификация на кучешки породи по снимки и за тази цел съм избрала да разгледам два модела - SVM (Support Vector Machines) и CNN (Convolutional Neural Network). Първо съм представила SVM модела, като данните за тренирането съм взела от Kaggle и представляват три сета - train, test, valid. Valid съм използвала само за тренирането на CNN."
   ],
   "metadata": {
    "collapsed": false
   }
  },
  {
   "cell_type": "code",
   "execution_count": 1,
   "id": "75ac22d3",
   "metadata": {},
   "outputs": [],
   "source": [
    "import numpy as np\n",
    "import matplotlib.pyplot as plt\n",
    "import pandas as pd\n",
    "import warnings\n",
    "import os\n",
    "from skimage.transform import resize\n",
    "from skimage.io import imread\n",
    "from sklearn import svm\n",
    "from sklearn.model_selection import GridSearchCV\n",
    "from sklearn.metrics import accuracy_score\n",
    "from sklearn.metrics import recall_score\n",
    "from sklearn.metrics import precision_score\n",
    "from sklearn.metrics import f1_score\n",
    "from sklearn.ensemble import BaggingClassifier\n",
    "\n",
    "%matplotlib inline\n",
    "\n",
    "warnings.simplefilter(action='ignore')"
   ]
  },
  {
   "cell_type": "code",
   "execution_count": 2,
   "id": "fd641c13",
   "metadata": {},
   "outputs": [],
   "source": [
    "train_set_path = './data/train'\n",
    "test_set_path = './data/test'\n",
    "valid_set_path = './data/valid'"
   ]
  },
  {
   "cell_type": "code",
   "execution_count": 3,
   "id": "c6832ef2",
   "metadata": {},
   "outputs": [],
   "source": [
    "train_dirs = os.listdir(train_set_path)\n",
    "test_dirs = os.listdir(test_set_path)\n",
    "valid_dirs = os.listdir(valid_set_path)"
   ]
  },
  {
   "cell_type": "markdown",
   "source": [
    "Чрез горния код получаваме под формата на string-ове пътищата до всичките 133 директории за всеки от трите сета."
   ],
   "metadata": {
    "collapsed": false
   }
  },
  {
   "cell_type": "code",
   "execution_count": 4,
   "outputs": [],
   "source": [
    "def create_datasets(breeds_count):\n",
    "    flat_arr = []\n",
    "    output_arr = []\n",
    "    flat_test_arr = []\n",
    "    output_test_arr = []\n",
    "\n",
    "    for index, clss in enumerate(train_dirs):\n",
    "        current_path = train_set_path + '/' + clss\n",
    "        current_test_path = test_set_path + '/' + clss\n",
    "        for img in os.listdir(current_path):\n",
    "            img_arr = imread(current_path + '/' + img)\n",
    "            img_resized = resize(img_arr, (150, 150, 3))\n",
    "            flat_arr.append(img_resized.flatten())\n",
    "            output_arr.append(clss[4:])\n",
    "        for img in os.listdir(current_test_path):\n",
    "            img_test_arr = imread(current_test_path + '/' + img)\n",
    "            img_test_resized = resize(img_test_arr, (150, 150, 3))\n",
    "            flat_test_arr.append(img_test_resized.flatten())\n",
    "            output_test_arr.append(clss[4:])\n",
    "        if index == breeds_count:\n",
    "            break\n",
    "        index += 1\n",
    "\n",
    "    flat_data = np.array(flat_arr)\n",
    "    output = np.array(output_arr)\n",
    "\n",
    "    flat_test_data = np.array(flat_test_arr)\n",
    "    output_test = np.array(output_test_arr)\n",
    "\n",
    "    df = pd.DataFrame(flat_data)\n",
    "    df['Output'] = output\n",
    "\n",
    "    df_test = pd.DataFrame(flat_test_data)\n",
    "    df_test['Output'] = output_test\n",
    "\n",
    "    x = df.iloc[:,:-1]\n",
    "    y = df.iloc[:,-1]\n",
    "\n",
    "    x_test = df_test.iloc[:,:-1]\n",
    "    y_test = df_test.iloc[:,-1]\n",
    "    return x, y, x_test, y_test"
   ],
   "metadata": {
    "collapsed": false
   }
  },
  {
   "cell_type": "markdown",
   "source": [
    "Функцията create_datasets използвам, за да обходя всички директории на тренировъчния и тестови сет и да създам матрицата от данни и вектора с класове (labels), като преработвам всяка снимка - преоразмерявам я до такава с размерност (150, 150) и я преобразувам в едномерен масив от стойности."
   ],
   "metadata": {
    "collapsed": false
   }
  },
  {
   "cell_type": "code",
   "execution_count": 5,
   "id": "c0f3e316",
   "metadata": {},
   "outputs": [],
   "source": [
    "X, Y, X_test, Y_test = create_datasets(10)"
   ]
  },
  {
   "cell_type": "code",
   "execution_count": 61,
   "id": "d61b117d",
   "metadata": {},
   "outputs": [],
   "source": [
    "param_grid={'C':[0.1],'gamma':[0.1],'kernel':['poly']}\n",
    "svc = svm.SVC(probability=True)\n",
    "model = GridSearchCV(svc, param_grid)"
   ]
  },
  {
   "cell_type": "markdown",
   "source": [
    "За първия експеримент използвам случайни стойности за параметрите на модела. GridSearchCV в случая не е необходим, тъй като имаме само една комбинация от стойности, но съм оставила за лесна промяна."
   ],
   "metadata": {
    "collapsed": false
   }
  },
  {
   "cell_type": "code",
   "execution_count": 62,
   "outputs": [
    {
     "data": {
      "text/plain": "GridSearchCV(estimator=SVC(probability=True),\n             param_grid={'C': [0.1], 'gamma': [0.1], 'kernel': ['poly']})"
     },
     "execution_count": 62,
     "metadata": {},
     "output_type": "execute_result"
    }
   ],
   "source": [
    "model.fit(X, Y)"
   ],
   "metadata": {
    "collapsed": false
   }
  },
  {
   "cell_type": "code",
   "execution_count": 63,
   "outputs": [],
   "source": [
    "y_test_predict = model.predict(X_test)"
   ],
   "metadata": {
    "collapsed": false
   }
  },
  {
   "cell_type": "code",
   "execution_count": 64,
   "id": "cd366d80",
   "metadata": {},
   "outputs": [
    {
     "name": "stdout",
     "output_type": "stream",
     "text": [
      "Accuracy: 28.04878048780488%\n",
      "Recall: 28.04878048780488%\n",
      "Precision: 27.449461107997692%\n",
      "F1 score: 26.639573520189696%\n"
     ]
    }
   ],
   "source": [
    "print(f\"Accuracy: {accuracy_score(Y_test, y_test_predict)*100}%\")\n",
    "print(f\"Recall: {recall_score(Y_test, y_test_predict, average='weighted', zero_division=1)*100}%\")\n",
    "print(f\"Precision: {precision_score(Y_test, y_test_predict, average='weighted', zero_division=1)*100}%\")\n",
    "print(f\"F1 score: {f1_score(Y_test, y_test_predict, average='weighted', zero_division=1)*100}%\")"
   ]
  },
  {
   "cell_type": "markdown",
   "source": [
    "Резултатите не са особено добри, а тренираме модела само за 10 породи кучета, затова реших да опитам трениране на ансамбъл от SVM-и с надеждата за постигане на по-добър резултат. Направила съм експерименти с ансамбъл от 5, 10 и 15 класификатора, за да видя как се справят и дали с увеличаването на класификаторите определянето на породите ще е с по-малка грешка, тъй като всеки класификатор е слаб, но бърка различни инстанции."
   ],
   "metadata": {
    "collapsed": false
   }
  },
  {
   "cell_type": "code",
   "execution_count": 47,
   "outputs": [
    {
     "name": "stdout",
     "output_type": "stream",
     "text": [
      "Accuracy: 24.390243902439025%\n",
      "Recall: 24.390243902439025%\n",
      "Precision: 26.785714285714285%\n",
      "F1 score: 22.0331529830888%\n"
     ]
    }
   ],
   "source": [
    "clf = BaggingClassifier(model, n_estimators=5, random_state=0).fit(X, Y)\n",
    "y_test_pred_ensemble = clf.predict(X_test)\n",
    "print(f\"Accuracy: {accuracy_score(Y_test, y_test_pred_ensemble)*100}%\")\n",
    "print(f\"Recall: {recall_score(Y_test, y_test_pred_ensemble, average='weighted', zero_division=1)*100}%\")\n",
    "print(f\"Precision: {precision_score(Y_test, y_test_pred_ensemble, average='weighted', zero_division=1)*100}%\")\n",
    "print(f\"F1 score: {f1_score(Y_test, y_test_pred_ensemble, average='weighted', zero_division=1)*100}%\")"
   ],
   "metadata": {
    "collapsed": false
   }
  },
  {
   "cell_type": "code",
   "execution_count": 48,
   "outputs": [
    {
     "name": "stdout",
     "output_type": "stream",
     "text": [
      "Accuracy: 28.04878048780488%\n",
      "Recall: 28.04878048780488%\n",
      "Precision: 27.90650406504065%\n",
      "F1 score: 26.805227293032168%\n"
     ]
    }
   ],
   "source": [
    "clf = BaggingClassifier(model, n_estimators=10, random_state=0).fit(X, Y)\n",
    "y_test_pred_ensemble = clf.predict(X_test)\n",
    "print(f\"Accuracy: {accuracy_score(Y_test, y_test_pred_ensemble)*100}%\")\n",
    "print(f\"Recall: {recall_score(Y_test, y_test_pred_ensemble, average='weighted', zero_division=1)*100}%\")\n",
    "print(f\"Precision: {precision_score(Y_test, y_test_pred_ensemble, average='weighted', zero_division=1)*100}%\")\n",
    "print(f\"F1 score: {f1_score(Y_test, y_test_pred_ensemble, average='weighted', zero_division=1)*100}%\")"
   ],
   "metadata": {
    "collapsed": false
   }
  },
  {
   "cell_type": "code",
   "execution_count": 49,
   "outputs": [
    {
     "name": "stdout",
     "output_type": "stream",
     "text": [
      "Accuracy: 26.82926829268293%\n",
      "Recall: 26.82926829268293%\n",
      "Precision: 31.576411393484566%\n",
      "F1 score: 25.693412278778126%\n"
     ]
    }
   ],
   "source": [
    "clf = BaggingClassifier(model, n_estimators=15, random_state=0).fit(X, Y)\n",
    "y_test_pred_ensemble = clf.predict(X_test)\n",
    "print(f\"Accuracy: {accuracy_score(Y_test, y_test_pred_ensemble)*100}%\")\n",
    "print(f\"Recall: {recall_score(Y_test, y_test_pred_ensemble, average='weighted', zero_division=1)*100}%\")\n",
    "print(f\"Precision: {precision_score(Y_test, y_test_pred_ensemble, average='weighted', zero_division=1)*100}%\")\n",
    "print(f\"F1 score: {f1_score(Y_test, y_test_pred_ensemble, average='weighted', zero_division=1)*100}%\")"
   ],
   "metadata": {
    "collapsed": false
   }
  },
  {
   "cell_type": "markdown",
   "source": [
    "Първоначалното ми предположение не беше правилно и всъщност ансамблите не се справиха толкова добре. Ансамбълът от 10 класификатора е с еквивалентен резултат на първия ми опит с един SVM."
   ],
   "metadata": {
    "collapsed": false
   }
  },
  {
   "cell_type": "code",
   "execution_count": 80,
   "outputs": [],
   "source": [
    "param_grid={'C':[0.1,1,10,100],'gamma':[0.0001,0.001,0.1,1],'kernel':['rbf','poly']}\n",
    "svc = svm.SVC(probability=True)\n",
    "model = GridSearchCV(svc, param_grid)"
   ],
   "metadata": {
    "collapsed": false
   }
  },
  {
   "cell_type": "markdown",
   "source": [
    "За да подобря модела, зададох по няколко стойности за параметрите му и в този случай GridSearchCV свърши своята работа за намирането на подходящите стойности."
   ],
   "metadata": {
    "collapsed": false
   }
  },
  {
   "cell_type": "code",
   "execution_count": 81,
   "outputs": [
    {
     "data": {
      "text/plain": "GridSearchCV(estimator=SVC(probability=True),\n             param_grid={'C': [0.1, 1, 10, 100],\n                         'gamma': [0.0001, 0.001, 0.1, 1],\n                         'kernel': ['rbf', 'poly']})"
     },
     "execution_count": 81,
     "metadata": {},
     "output_type": "execute_result"
    }
   ],
   "source": [
    "model.fit(X, Y)"
   ],
   "metadata": {
    "collapsed": false
   }
  },
  {
   "cell_type": "code",
   "execution_count": 82,
   "outputs": [
    {
     "data": {
      "text/plain": "{'C': 100, 'gamma': 0.0001, 'kernel': 'rbf'}"
     },
     "execution_count": 82,
     "metadata": {},
     "output_type": "execute_result"
    }
   ],
   "source": [
    "model.best_params_"
   ],
   "metadata": {
    "collapsed": false
   }
  },
  {
   "cell_type": "markdown",
   "source": [
    "А това са параметрите, които са подходящи за данните и за този модел."
   ],
   "metadata": {
    "collapsed": false
   }
  },
  {
   "cell_type": "code",
   "execution_count": 83,
   "outputs": [],
   "source": [
    "y_test_predict = model.predict(X_test)"
   ],
   "metadata": {
    "collapsed": false
   }
  },
  {
   "cell_type": "code",
   "execution_count": 84,
   "outputs": [
    {
     "name": "stdout",
     "output_type": "stream",
     "text": [
      "Accuracy: 32.926829268292686%\n",
      "Recall: 32.926829268292686%\n",
      "Precision: 32.92834536736976%\n",
      "F1 score: 31.780561753082097%\n"
     ]
    }
   ],
   "source": [
    "print(f\"Accuracy: {accuracy_score(Y_test, y_test_predict)*100}%\")\n",
    "print(f\"Recall: {recall_score(Y_test, y_test_predict, average='weighted', zero_division=1)*100}%\")\n",
    "print(f\"Precision: {precision_score(Y_test, y_test_predict, average='weighted', zero_division=1)*100}%\")\n",
    "print(f\"F1 score: {f1_score(Y_test, y_test_predict, average='weighted', zero_division=1)*100}%\")"
   ],
   "metadata": {
    "collapsed": false
   }
  },
  {
   "cell_type": "markdown",
   "source": [
    "Резултатите също са по-добри, но отново експериментирах с ансамбли от 5, 10 и 15 класификатора."
   ],
   "metadata": {
    "collapsed": false
   }
  },
  {
   "cell_type": "code",
   "execution_count": 93,
   "outputs": [],
   "source": [
    "param_grid={'C':[100],'gamma':[0.0001],'kernel':['rbf']}\n",
    "svc = svm.SVC(probability=True)\n",
    "model = GridSearchCV(svc, param_grid)"
   ],
   "metadata": {
    "collapsed": false
   }
  },
  {
   "cell_type": "code",
   "execution_count": 94,
   "outputs": [
    {
     "name": "stdout",
     "output_type": "stream",
     "text": [
      "Accuracy: 34.146341463414636%\n",
      "Recall: 34.146341463414636%\n",
      "Precision: 34.96143422972691%\n",
      "F1 score: 31.666549614899687%\n"
     ]
    }
   ],
   "source": [
    "clf = BaggingClassifier(model, n_estimators=5, random_state=0).fit(X, Y)\n",
    "y_test_pred_ensemble = clf.predict(X_test)\n",
    "print(f\"Accuracy: {accuracy_score(Y_test, y_test_pred_ensemble)*100}%\")\n",
    "print(f\"Recall: {recall_score(Y_test, y_test_pred_ensemble, average='weighted', zero_division=1)*100}%\")\n",
    "print(f\"Precision: {precision_score(Y_test, y_test_pred_ensemble, average='weighted', zero_division=1)*100}%\")\n",
    "print(f\"F1 score: {f1_score(Y_test, y_test_pred_ensemble, average='weighted', zero_division=1)*100}%\")"
   ],
   "metadata": {
    "collapsed": false
   }
  },
  {
   "cell_type": "code",
   "execution_count": 95,
   "outputs": [
    {
     "name": "stdout",
     "output_type": "stream",
     "text": [
      "Accuracy: 32.926829268292686%\n",
      "Recall: 32.926829268292686%\n",
      "Precision: 36.18736954102808%\n",
      "F1 score: 31.687072775194803%\n"
     ]
    }
   ],
   "source": [
    "clf = BaggingClassifier(model, n_estimators=10, random_state=0).fit(X, Y)\n",
    "y_test_pred_ensemble = clf.predict(X_test)\n",
    "print(f\"Accuracy: {accuracy_score(Y_test, y_test_pred_ensemble)*100}%\")\n",
    "print(f\"Recall: {recall_score(Y_test, y_test_pred_ensemble, average='weighted', zero_division=1)*100}%\")\n",
    "print(f\"Precision: {precision_score(Y_test, y_test_pred_ensemble, average='weighted', zero_division=1)*100}%\")\n",
    "print(f\"F1 score: {f1_score(Y_test, y_test_pred_ensemble, average='weighted', zero_division=1)*100}%\")"
   ],
   "metadata": {
    "collapsed": false
   }
  },
  {
   "cell_type": "code",
   "execution_count": 97,
   "outputs": [
    {
     "name": "stdout",
     "output_type": "stream",
     "text": [
      "Accuracy: 32.926829268292686%\n",
      "Recall: 32.926829268292686%\n",
      "Precision: 35.35423925667829%\n",
      "F1 score: 31.241891084826978%\n"
     ]
    }
   ],
   "source": [
    "clf = BaggingClassifier(model, n_estimators=15, random_state=0).fit(X, Y)\n",
    "y_test_pred_ensemble = clf.predict(X_test)\n",
    "print(f\"Accuracy: {accuracy_score(Y_test, y_test_pred_ensemble)*100}%\")\n",
    "print(f\"Recall: {recall_score(Y_test, y_test_pred_ensemble, average='weighted', zero_division=1)*100}%\")\n",
    "print(f\"Precision: {precision_score(Y_test, y_test_pred_ensemble, average='weighted', zero_division=1)*100}%\")\n",
    "print(f\"F1 score: {f1_score(Y_test, y_test_pred_ensemble, average='weighted', zero_division=1)*100}%\")"
   ],
   "metadata": {
    "collapsed": false
   }
  },
  {
   "cell_type": "markdown",
   "source": [
    "И в този случай ансамбълът от 10 класификатора се справя най-добре, но всички ансамбли са с приблизителни резултати за разлика от тези с неподходящи параметри. И всички са с приблизителни метрики на тези от един SVM."
   ],
   "metadata": {
    "collapsed": false
   }
  },
  {
   "cell_type": "code",
   "execution_count": 39,
   "outputs": [],
   "source": [
    "X, Y, X_test, Y_test = create_datasets(5)"
   ],
   "metadata": {
    "collapsed": false
   }
  },
  {
   "cell_type": "code",
   "execution_count": 40,
   "outputs": [],
   "source": [
    "param_grid={'C':[100],'gamma':[0.0001],'kernel':['rbf']}\n",
    "svc = svm.SVC(probability=True)\n",
    "model = GridSearchCV(svc, param_grid)"
   ],
   "metadata": {
    "collapsed": false
   }
  },
  {
   "cell_type": "code",
   "execution_count": 41,
   "outputs": [
    {
     "name": "stdout",
     "output_type": "stream",
     "text": [
      "--- 121.26868891716003 seconds ---\n"
     ]
    }
   ],
   "source": [
    "import time\n",
    "start_time = time.time()\n",
    "model.fit(X, Y)\n",
    "print(\"--- %s seconds ---\" % (time.time() - start_time))"
   ],
   "metadata": {
    "collapsed": false
   }
  },
  {
   "cell_type": "code",
   "execution_count": 42,
   "outputs": [],
   "source": [
    "y_test_predict = model.predict(X_test)"
   ],
   "metadata": {
    "collapsed": false
   }
  },
  {
   "cell_type": "code",
   "execution_count": 43,
   "outputs": [
    {
     "name": "stdout",
     "output_type": "stream",
     "text": [
      "Accuracy: 56.25%\n",
      "Recall: 56.25%\n",
      "Precision: 58.670634920634924%\n",
      "F1 score: 56.176775294422356%\n"
     ]
    }
   ],
   "source": [
    "print(f\"Accuracy: {accuracy_score(Y_test, y_test_predict)*100}%\")\n",
    "print(f\"Recall: {recall_score(Y_test, y_test_predict, average='weighted', zero_division=1)*100}%\")\n",
    "print(f\"Precision: {precision_score(Y_test, y_test_predict, average='weighted', zero_division=1)*100}%\")\n",
    "print(f\"F1 score: {f1_score(Y_test, y_test_predict, average='weighted', zero_division=1)*100}%\")"
   ],
   "metadata": {
    "collapsed": false
   }
  },
  {
   "cell_type": "code",
   "execution_count": 124,
   "outputs": [],
   "source": [
    "X, Y, X_test, Y_test = create_datasets(4)"
   ],
   "metadata": {
    "collapsed": false
   }
  },
  {
   "cell_type": "code",
   "execution_count": 125,
   "outputs": [],
   "source": [
    "param_grid={'C':[100],'gamma':[0.0001],'kernel':['rbf']}\n",
    "svc = svm.SVC(probability=True)\n",
    "model = GridSearchCV(svc, param_grid)"
   ],
   "metadata": {
    "collapsed": false
   }
  },
  {
   "cell_type": "code",
   "execution_count": 126,
   "outputs": [
    {
     "data": {
      "text/plain": "GridSearchCV(estimator=SVC(probability=True),\n             param_grid={'C': [100], 'gamma': [0.0001], 'kernel': ['rbf']})"
     },
     "execution_count": 126,
     "metadata": {},
     "output_type": "execute_result"
    }
   ],
   "source": [
    "model.fit(X, Y)"
   ],
   "metadata": {
    "collapsed": false
   }
  },
  {
   "cell_type": "code",
   "execution_count": 127,
   "outputs": [],
   "source": [
    "y_test_predict = model.predict(X_test)"
   ],
   "metadata": {
    "collapsed": false
   }
  },
  {
   "cell_type": "code",
   "execution_count": 128,
   "outputs": [
    {
     "name": "stdout",
     "output_type": "stream",
     "text": [
      "Accuracy: 55.00000000000001%\n",
      "Recall: 55.00000000000001%\n",
      "Precision: 58.36713286713287%\n",
      "F1 score: 54.752747252747255%\n"
     ]
    }
   ],
   "source": [
    "print(f\"Accuracy: {accuracy_score(Y_test, y_test_predict)*100}%\")\n",
    "print(f\"Recall: {recall_score(Y_test, y_test_predict, average='weighted', zero_division=1)*100}%\")\n",
    "print(f\"Precision: {precision_score(Y_test, y_test_predict, average='weighted', zero_division=1)*100}%\")\n",
    "print(f\"F1 score: {f1_score(Y_test, y_test_predict, average='weighted', zero_division=1)*100}%\")"
   ],
   "metadata": {
    "collapsed": false
   }
  },
  {
   "cell_type": "code",
   "execution_count": 103,
   "outputs": [],
   "source": [
    "X, Y, X_test, Y_test = create_datasets(4)"
   ],
   "metadata": {
    "collapsed": false
   }
  },
  {
   "cell_type": "code",
   "execution_count": 115,
   "outputs": [],
   "source": [
    "param_grid={'C':[0.1],'gamma':[0.1],'kernel':['poly']}\n",
    "svc = svm.SVC(probability=True)\n",
    "model = GridSearchCV(svc, param_grid)"
   ],
   "metadata": {
    "collapsed": false
   }
  },
  {
   "cell_type": "code",
   "execution_count": 116,
   "outputs": [
    {
     "data": {
      "text/plain": "GridSearchCV(estimator=SVC(probability=True),\n             param_grid={'C': [0.1], 'gamma': [0.1], 'kernel': ['poly']})"
     },
     "execution_count": 116,
     "metadata": {},
     "output_type": "execute_result"
    }
   ],
   "source": [
    "model.fit(X, Y)"
   ],
   "metadata": {
    "collapsed": false
   }
  },
  {
   "cell_type": "code",
   "execution_count": 117,
   "outputs": [],
   "source": [
    "y_test_predict = model.predict(X_test)"
   ],
   "metadata": {
    "collapsed": false
   }
  },
  {
   "cell_type": "code",
   "execution_count": 118,
   "outputs": [
    {
     "name": "stdout",
     "output_type": "stream",
     "text": [
      "Accuracy: 50.0%\n",
      "Recall: 50.0%\n",
      "Precision: 51.25974025974026%\n",
      "F1 score: 49.558318874108345%\n"
     ]
    }
   ],
   "source": [
    "print(f\"Accuracy: {accuracy_score(Y_test, y_test_predict)*100}%\")\n",
    "print(f\"Recall: {recall_score(Y_test, y_test_predict, average='weighted', zero_division=1)*100}%\")\n",
    "print(f\"Precision: {precision_score(Y_test, y_test_predict, average='weighted', zero_division=1)*100}%\")\n",
    "print(f\"F1 score: {f1_score(Y_test, y_test_predict, average='weighted', zero_division=1)*100}%\")"
   ],
   "metadata": {
    "collapsed": false
   }
  },
  {
   "cell_type": "code",
   "execution_count": null,
   "outputs": [],
   "source": [
    "X, Y, X_test, Y_test = create_datasets(5)"
   ],
   "metadata": {
    "collapsed": false,
    "pycharm": {
     "is_executing": true
    }
   }
  },
  {
   "cell_type": "code",
   "execution_count": 120,
   "outputs": [],
   "source": [
    "param_grid={'C':[0.1],'gamma':[0.1],'kernel':['poly']}\n",
    "svc = svm.SVC(probability=True)\n",
    "model = GridSearchCV(svc, param_grid)"
   ],
   "metadata": {
    "collapsed": false
   }
  },
  {
   "cell_type": "code",
   "execution_count": 121,
   "outputs": [
    {
     "data": {
      "text/plain": "GridSearchCV(estimator=SVC(probability=True),\n             param_grid={'C': [0.1], 'gamma': [0.1], 'kernel': ['poly']})"
     },
     "execution_count": 121,
     "metadata": {},
     "output_type": "execute_result"
    }
   ],
   "source": [
    "model.fit(X, Y)"
   ],
   "metadata": {
    "collapsed": false
   }
  },
  {
   "cell_type": "code",
   "execution_count": 122,
   "outputs": [],
   "source": [
    "y_test_predict = model.predict(X_test)"
   ],
   "metadata": {
    "collapsed": false
   }
  },
  {
   "cell_type": "code",
   "execution_count": 123,
   "outputs": [
    {
     "name": "stdout",
     "output_type": "stream",
     "text": [
      "Accuracy: 50.0%\n",
      "Recall: 50.0%\n",
      "Precision: 50.94405594405595%\n",
      "F1 score: 48.91636141636142%\n"
     ]
    }
   ],
   "source": [
    "print(f\"Accuracy: {accuracy_score(Y_test, y_test_predict)*100}%\")\n",
    "print(f\"Recall: {recall_score(Y_test, y_test_predict, average='weighted', zero_division=1)*100}%\")\n",
    "print(f\"Precision: {precision_score(Y_test, y_test_predict, average='weighted', zero_division=1)*100}%\")\n",
    "print(f\"F1 score: {f1_score(Y_test, y_test_predict, average='weighted', zero_division=1)*100}%\")"
   ],
   "metadata": {
    "collapsed": false
   }
  },
  {
   "cell_type": "code",
   "execution_count": 135,
   "outputs": [],
   "source": [
    "X, Y, X_test, Y_test = create_datasets(2)"
   ],
   "metadata": {
    "collapsed": false
   }
  },
  {
   "cell_type": "code",
   "execution_count": 136,
   "outputs": [],
   "source": [
    "param_grid={'C':[0.1],'gamma':[0.1],'kernel':['poly']}\n",
    "svc = svm.SVC(probability=True)\n",
    "model = GridSearchCV(svc, param_grid)"
   ],
   "metadata": {
    "collapsed": false
   }
  },
  {
   "cell_type": "code",
   "execution_count": 137,
   "outputs": [
    {
     "data": {
      "text/plain": "GridSearchCV(estimator=SVC(probability=True),\n             param_grid={'C': [0.1], 'gamma': [0.1], 'kernel': ['poly']})"
     },
     "execution_count": 137,
     "metadata": {},
     "output_type": "execute_result"
    }
   ],
   "source": [
    "model.fit(X, Y)"
   ],
   "metadata": {
    "collapsed": false
   }
  },
  {
   "cell_type": "code",
   "execution_count": 138,
   "outputs": [],
   "source": [
    "y_test_predict = model.predict(X_test)"
   ],
   "metadata": {
    "collapsed": false
   }
  },
  {
   "cell_type": "code",
   "execution_count": 139,
   "outputs": [
    {
     "name": "stdout",
     "output_type": "stream",
     "text": [
      "Accuracy: 59.09090909090909%\n",
      "Recall: 59.09090909090909%\n",
      "Precision: 66.23376623376623%\n",
      "F1 score: 61.471861471861466%\n"
     ]
    }
   ],
   "source": [
    "print(f\"Accuracy: {accuracy_score(Y_test, y_test_predict)*100}%\")\n",
    "print(f\"Recall: {recall_score(Y_test, y_test_predict, average='weighted', zero_division=1)*100}%\")\n",
    "print(f\"Precision: {precision_score(Y_test, y_test_predict, average='weighted', zero_division=1)*100}%\")\n",
    "print(f\"F1 score: {f1_score(Y_test, y_test_predict, average='weighted', zero_division=1)*100}%\")"
   ],
   "metadata": {
    "collapsed": false
   }
  },
  {
   "cell_type": "code",
   "execution_count": 140,
   "outputs": [],
   "source": [
    "X, Y, X_test, Y_test = create_datasets(2)"
   ],
   "metadata": {
    "collapsed": false
   }
  },
  {
   "cell_type": "code",
   "execution_count": 141,
   "outputs": [],
   "source": [
    "param_grid={'C':[100],'gamma':[0.0001],'kernel':['rbf']}\n",
    "svc = svm.SVC(probability=True)\n",
    "model = GridSearchCV(svc, param_grid)"
   ],
   "metadata": {
    "collapsed": false
   }
  },
  {
   "cell_type": "code",
   "execution_count": 142,
   "outputs": [
    {
     "data": {
      "text/plain": "GridSearchCV(estimator=SVC(probability=True),\n             param_grid={'C': [100], 'gamma': [0.0001], 'kernel': ['rbf']})"
     },
     "execution_count": 142,
     "metadata": {},
     "output_type": "execute_result"
    }
   ],
   "source": [
    "model.fit(X, Y)"
   ],
   "metadata": {
    "collapsed": false
   }
  },
  {
   "cell_type": "code",
   "execution_count": 143,
   "outputs": [],
   "source": [
    "y_test_predict = model.predict(X_test)"
   ],
   "metadata": {
    "collapsed": false
   }
  },
  {
   "cell_type": "code",
   "execution_count": 144,
   "outputs": [
    {
     "name": "stdout",
     "output_type": "stream",
     "text": [
      "Accuracy: 68.18181818181817%\n",
      "Recall: 68.18181818181817%\n",
      "Precision: 72.2943722943723%\n",
      "F1 score: 69.42469295410471%\n"
     ]
    }
   ],
   "source": [
    "print(f\"Accuracy: {accuracy_score(Y_test, y_test_predict)*100}%\")\n",
    "print(f\"Recall: {recall_score(Y_test, y_test_predict, average='weighted', zero_division=1)*100}%\")\n",
    "print(f\"Precision: {precision_score(Y_test, y_test_predict, average='weighted', zero_division=1)*100}%\")\n",
    "print(f\"F1 score: {f1_score(Y_test, y_test_predict, average='weighted', zero_division=1)*100}%\")"
   ],
   "metadata": {
    "collapsed": false
   }
  },
  {
   "cell_type": "markdown",
   "source": [
    "Няколко опита с много малко на брой породи, с които исках да покажа, че метриките се влошават с увеличаването на породите кучета, тоест за SVM е най-лесно, ако породите са малко. Разбира се, направих експеримент и с малко повече породи с подходящите параметри без ансамбли, защото по-горе видяхме, че не постигаме по-добър резултат с тях."
   ],
   "metadata": {
    "collapsed": false
   }
  },
  {
   "cell_type": "code",
   "execution_count": null,
   "outputs": [],
   "source": [
    "X, Y, X_test, Y_test = create_datasets(25)"
   ],
   "metadata": {
    "collapsed": false,
    "pycharm": {
     "is_executing": true
    }
   }
  },
  {
   "cell_type": "code",
   "execution_count": 146,
   "outputs": [],
   "source": [
    "param_grid={'C':[100],'gamma':[0.0001],'kernel':['rbf']}\n",
    "svc = svm.SVC(probability=True)\n",
    "model = GridSearchCV(svc, param_grid)"
   ],
   "metadata": {
    "collapsed": false
   }
  },
  {
   "cell_type": "code",
   "execution_count": 147,
   "outputs": [
    {
     "data": {
      "text/plain": "GridSearchCV(estimator=SVC(probability=True),\n             param_grid={'C': [100], 'gamma': [0.0001], 'kernel': ['rbf']})"
     },
     "execution_count": 147,
     "metadata": {},
     "output_type": "execute_result"
    }
   ],
   "source": [
    "model.fit(X, Y)"
   ],
   "metadata": {
    "collapsed": false
   }
  },
  {
   "cell_type": "code",
   "execution_count": 148,
   "outputs": [],
   "source": [
    "y_test_predict = model.predict(X_test)"
   ],
   "metadata": {
    "collapsed": false
   }
  },
  {
   "cell_type": "code",
   "execution_count": 149,
   "outputs": [
    {
     "name": "stdout",
     "output_type": "stream",
     "text": [
      "Accuracy: 21.354166666666664%\n",
      "Recall: 21.354166666666664%\n",
      "Precision: 23.028987794612796%\n",
      "F1 score: 20.971507028976074%\n"
     ]
    }
   ],
   "source": [
    "print(f\"Accuracy: {accuracy_score(Y_test, y_test_predict)*100}%\")\n",
    "print(f\"Recall: {recall_score(Y_test, y_test_predict, average='weighted', zero_division=1)*100}%\")\n",
    "print(f\"Precision: {precision_score(Y_test, y_test_predict, average='weighted', zero_division=1)*100}%\")\n",
    "print(f\"F1 score: {f1_score(Y_test, y_test_predict, average='weighted', zero_division=1)*100}%\")"
   ],
   "metadata": {
    "collapsed": false
   }
  },
  {
   "cell_type": "markdown",
   "source": [
    "Хипотезата се потвърждава и с резултата за 25 породи кучета (метриките се влошават още повече). От направените експерименти изводът е, че или са необходими още повече данни на SVM, за да се вдигнат резултатите, или SVM не е толкова подходящ за класифициране на изображения (справя се, но резултатите не са задоволителни).\n",
    "За по-ясно изобразяване на експериментите съм направила три диаграми:\n",
    "    - за 10 породи с различен брой SVM класификатори (с неподходящи и оптимални хиперпараметри)\n",
    "    - за различен брой породи (с неподходящи и оптимални хиперпараметри)\n",
    "    - bar plot за 10 породи, който да покаже, че хиперпараметрите наистина са важни и могат драстично да подобрят модела"
   ],
   "metadata": {
    "collapsed": false
   }
  },
  {
   "cell_type": "code",
   "execution_count": 6,
   "outputs": [],
   "source": [
    "data_not_optimized_10_breeds = [[1, 26.64], [5, 22.03], [10, 26.81], [15, 25.69]]\n",
    "data_not_optimized_different_number_of_breeds = [[2, 61.47], [4, 49.59], [5, 48.92], [10, 26.64]]\n",
    "data_optimized_10_breeds = [[1, 31.78], [5, 31.67], [10, 31.69], [15, 31.24]]\n",
    "data_optimized_different_number_of_breeds = [[2, 69.42], [4, 54.75], [5, 56.18], [10, 31.78], [25, 20.97]]\n",
    "data_10_breeds_optimized_not_optimized_diff = [['optimized', 31.78], ['not optimized', 26.64]]"
   ],
   "metadata": {
    "collapsed": false
   }
  },
  {
   "cell_type": "code",
   "execution_count": 7,
   "outputs": [],
   "source": [
    "df_data_not_optimized_10_breeds = pd.DataFrame(data_not_optimized_10_breeds, columns=['# classifiers', 'f1 score'])\n",
    "df_data_not_optimized_different_number_of_breeds = pd.DataFrame(data_not_optimized_different_number_of_breeds, columns=['# breeds', 'f1 score'])\n",
    "df_data_optimized_10_breeds = pd.DataFrame(data_optimized_10_breeds, columns=['# classifiers', 'f1 score'])\n",
    "df_data_optimized_different_number_of_breeds = pd.DataFrame(data_optimized_different_number_of_breeds, columns=['# breeds', 'f1 score'])\n",
    "df_data_10_breeds_optimized_not_optimized_diff = pd.DataFrame(data_10_breeds_optimized_not_optimized_diff, columns=['optimized?', 'f1 score'])"
   ],
   "metadata": {
    "collapsed": false
   }
  },
  {
   "cell_type": "code",
   "execution_count": 36,
   "outputs": [
    {
     "data": {
      "text/plain": "<Figure size 600x400 with 1 Axes>",
      "image/png": "[encoded data removed]"
     },
     "metadata": {},
     "output_type": "display_data"
    }
   ],
   "source": [
    "plt.figure(dpi=100)\n",
    "plt.title(\"Optimized hyperparameters vs not optimized hyperparameters\", fontweight=\"bold\")\n",
    "plt.xlabel(\"Number of classifiers (for 10 breeds classification)\", fontweight=\"bold\")\n",
    "plt.ylabel(\"F1 score\", fontweight=\"bold\")\n",
    "plt.plot(df_data_not_optimized_10_breeds['# classifiers'], df_data_not_optimized_10_breeds['f1 score'], color=\"green\")\n",
    "plt.plot(df_data_optimized_10_breeds['# classifiers'], df_data_optimized_10_breeds['f1 score'], color=\"blue\")\n",
    "plt.show()"
   ],
   "metadata": {
    "collapsed": false
   }
  },
  {
   "cell_type": "code",
   "execution_count": 38,
   "outputs": [
    {
     "data": {
      "text/plain": "<Figure size 600x400 with 1 Axes>",
      "image/png": "[encoded data removed]"
     },
     "metadata": {},
     "output_type": "display_data"
    }
   ],
   "source": [
    "plt.figure(dpi=100)\n",
    "plt.title(\"Optimized hyperparameters vs not optimized hyperparameters\", fontweight=\"bold\")\n",
    "plt.xlabel(\"Number of breeds\", fontweight=\"bold\")\n",
    "plt.ylabel(\"F1 score\", fontweight=\"bold\")\n",
    "plt.plot(df_data_not_optimized_different_number_of_breeds['# breeds'], df_data_not_optimized_different_number_of_breeds['f1 score'], color=\"green\")\n",
    "plt.plot(df_data_optimized_different_number_of_breeds['# breeds'], df_data_optimized_different_number_of_breeds['f1 score'], color=\"blue\")\n",
    "plt.show()"
   ],
   "metadata": {
    "collapsed": false
   }
  },
  {
   "cell_type": "code",
   "execution_count": 51,
   "outputs": [
    {
     "data": {
      "text/plain": "<Figure size 600x400 with 1 Axes>",
      "image/png": "[encoded data removed]"
     },
     "metadata": {},
     "output_type": "display_data"
    }
   ],
   "source": [
    "plt.figure(dpi=100)\n",
    "plt.bar(df_data_10_breeds_optimized_not_optimized_diff['optimized?'], df_data_10_breeds_optimized_not_optimized_diff['f1 score'], color=\"red\", width=0.2)\n",
    "plt.ylabel(\"F1 score\", fontweight=\"bold\")\n",
    "plt.title(\"Optimized vs not optimized hyperparameters\", fontweight=\"bold\")\n",
    "plt.show()"
   ],
   "metadata": {
    "collapsed": false
   }
  },
  {
   "cell_type": "markdown",
   "source": [
    "Поради хардуерна и времева лимитация не съм пуснала трениране на модела за повече от 25 породи."
   ],
   "metadata": {
    "collapsed": false
   }
  }
 ],
 "metadata": {
  "kernelspec": {
   "display_name": "Python 3 (ipykernel)",
   "language": "python",
   "name": "python3"
  },
  "language_info": {
   "codemirror_mode": {
    "name": "ipython",
    "version": 3
   },
   "file_extension": ".py",
   "mimetype": "text/x-python",
   "name": "python",
   "nbconvert_exporter": "python",
   "pygments_lexer": "ipython3",
   "version": "3.9.12"
  }
 },
 "nbformat": 4,
 "nbformat_minor": 5
}
